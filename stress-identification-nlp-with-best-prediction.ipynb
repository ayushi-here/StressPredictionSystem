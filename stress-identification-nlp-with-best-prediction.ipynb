{
 "cells": [
  {
   "cell_type": "code",
   "execution_count": 1,
   "id": "9ed504bc",
   "metadata": {
    "jupyter": {
     "source_hidden": true
    },
    "papermill": {
     "duration": 0.040258,
     "end_time": "2023-05-01T17:48:10.624688",
     "exception": false,
     "start_time": "2023-05-01T17:48:10.584430",
     "status": "completed"
    },
    "tags": []
   },
   "outputs": [],
   "source": [
    "import numpy as np # linear algebra\n",
    "import pandas as pd # data processing, CSV file I/O (e.g. pd.read_csv)"
   ]
  },
  {
   "cell_type": "markdown",
   "id": "f203e425",
   "metadata": {
    "papermill": {
     "duration": 0.014064,
     "end_time": "2023-05-01T17:48:10.653523",
     "exception": false,
     "start_time": "2023-05-01T17:48:10.639459",
     "status": "completed"
    },
    "tags": []
   },
   "source": [
    "## Data preparation\n",
    "* getting information,shape of data\n",
    "* dropping unrequired columns\n",
    "* looking at labels unique values"
   ]
  },
  {
   "cell_type": "code",
   "execution_count": 2,
   "id": "6ee6dc8f",
   "metadata": {
    "papermill": {
     "duration": 0.110635,
     "end_time": "2023-05-01T17:48:10.778573",
     "exception": false,
     "start_time": "2023-05-01T17:48:10.667938",
     "status": "completed"
    },
    "tags": []
   },
   "outputs": [
    {
     "data": {
      "text/html": [
       "<div>\n",
       "<style scoped>\n",
       "    .dataframe tbody tr th:only-of-type {\n",
       "        vertical-align: middle;\n",
       "    }\n",
       "\n",
       "    .dataframe tbody tr th {\n",
       "        vertical-align: top;\n",
       "    }\n",
       "\n",
       "    .dataframe thead th {\n",
       "        text-align: right;\n",
       "    }\n",
       "</style>\n",
       "<table border=\"1\" class=\"dataframe\">\n",
       "  <thead>\n",
       "    <tr style=\"text-align: right;\">\n",
       "      <th></th>\n",
       "      <th>subreddit</th>\n",
       "      <th>post_id</th>\n",
       "      <th>sentence_range</th>\n",
       "      <th>text</th>\n",
       "      <th>label</th>\n",
       "      <th>confidence</th>\n",
       "      <th>social_timestamp</th>\n",
       "    </tr>\n",
       "  </thead>\n",
       "  <tbody>\n",
       "    <tr>\n",
       "      <th>0</th>\n",
       "      <td>ptsd</td>\n",
       "      <td>8601tu</td>\n",
       "      <td>(15, 20)</td>\n",
       "      <td>He said he had not felt that way before, sugge...</td>\n",
       "      <td>1</td>\n",
       "      <td>0.8</td>\n",
       "      <td>1521614353</td>\n",
       "    </tr>\n",
       "    <tr>\n",
       "      <th>1</th>\n",
       "      <td>assistance</td>\n",
       "      <td>8lbrx9</td>\n",
       "      <td>(0, 5)</td>\n",
       "      <td>Hey there r/assistance, Not sure if this is th...</td>\n",
       "      <td>0</td>\n",
       "      <td>1.0</td>\n",
       "      <td>1527009817</td>\n",
       "    </tr>\n",
       "    <tr>\n",
       "      <th>2</th>\n",
       "      <td>ptsd</td>\n",
       "      <td>9ch1zh</td>\n",
       "      <td>(15, 20)</td>\n",
       "      <td>My mom then hit me with the newspaper and it s...</td>\n",
       "      <td>1</td>\n",
       "      <td>0.8</td>\n",
       "      <td>1535935605</td>\n",
       "    </tr>\n",
       "    <tr>\n",
       "      <th>3</th>\n",
       "      <td>relationships</td>\n",
       "      <td>7rorpp</td>\n",
       "      <td>[5, 10]</td>\n",
       "      <td>until i met my new boyfriend, he is amazing, h...</td>\n",
       "      <td>1</td>\n",
       "      <td>0.6</td>\n",
       "      <td>1516429555</td>\n",
       "    </tr>\n",
       "    <tr>\n",
       "      <th>4</th>\n",
       "      <td>survivorsofabuse</td>\n",
       "      <td>9p2gbc</td>\n",
       "      <td>[0, 5]</td>\n",
       "      <td>October is Domestic Violence Awareness Month a...</td>\n",
       "      <td>1</td>\n",
       "      <td>0.8</td>\n",
       "      <td>1539809005</td>\n",
       "    </tr>\n",
       "  </tbody>\n",
       "</table>\n",
       "</div>"
      ],
      "text/plain": [
       "          subreddit post_id sentence_range  \\\n",
       "0              ptsd  8601tu       (15, 20)   \n",
       "1        assistance  8lbrx9         (0, 5)   \n",
       "2              ptsd  9ch1zh       (15, 20)   \n",
       "3     relationships  7rorpp        [5, 10]   \n",
       "4  survivorsofabuse  9p2gbc         [0, 5]   \n",
       "\n",
       "                                                text  label  confidence  \\\n",
       "0  He said he had not felt that way before, sugge...      1         0.8   \n",
       "1  Hey there r/assistance, Not sure if this is th...      0         1.0   \n",
       "2  My mom then hit me with the newspaper and it s...      1         0.8   \n",
       "3  until i met my new boyfriend, he is amazing, h...      1         0.6   \n",
       "4  October is Domestic Violence Awareness Month a...      1         0.8   \n",
       "\n",
       "   social_timestamp  \n",
       "0        1521614353  \n",
       "1        1527009817  \n",
       "2        1535935605  \n",
       "3        1516429555  \n",
       "4        1539809005  "
      ]
     },
     "execution_count": 2,
     "metadata": {},
     "output_type": "execute_result"
    }
   ],
   "source": [
    "df = pd.read_csv(\"Stress.csv\")\n",
    "df.head()"
   ]
  },
  {
   "cell_type": "code",
   "execution_count": 3,
   "id": "22af633e",
   "metadata": {
    "papermill": {
     "duration": 0.045698,
     "end_time": "2023-05-01T17:48:10.839730",
     "exception": false,
     "start_time": "2023-05-01T17:48:10.794032",
     "status": "completed"
    },
    "tags": []
   },
   "outputs": [
    {
     "name": "stdout",
     "output_type": "stream",
     "text": [
      "<class 'pandas.core.frame.DataFrame'>\n",
      "RangeIndex: 2838 entries, 0 to 2837\n",
      "Data columns (total 7 columns):\n",
      " #   Column            Non-Null Count  Dtype  \n",
      "---  ------            --------------  -----  \n",
      " 0   subreddit         2838 non-null   object \n",
      " 1   post_id           2838 non-null   object \n",
      " 2   sentence_range    2838 non-null   object \n",
      " 3   text              2838 non-null   object \n",
      " 4   label             2838 non-null   int64  \n",
      " 5   confidence        2838 non-null   float64\n",
      " 6   social_timestamp  2838 non-null   int64  \n",
      "dtypes: float64(1), int64(2), object(4)\n",
      "memory usage: 155.3+ KB\n"
     ]
    },
    {
     "data": {
      "text/plain": [
       "((2838, 7), None)"
      ]
     },
     "execution_count": 3,
     "metadata": {},
     "output_type": "execute_result"
    }
   ],
   "source": [
    "df.shape,df.info()"
   ]
  },
  {
   "cell_type": "code",
   "execution_count": 4,
   "id": "97267128",
   "metadata": {
    "papermill": {
     "duration": 0.035903,
     "end_time": "2023-05-01T17:48:10.890521",
     "exception": false,
     "start_time": "2023-05-01T17:48:10.854618",
     "status": "completed"
    },
    "tags": []
   },
   "outputs": [
    {
     "data": {
      "text/html": [
       "<div>\n",
       "<style scoped>\n",
       "    .dataframe tbody tr th:only-of-type {\n",
       "        vertical-align: middle;\n",
       "    }\n",
       "\n",
       "    .dataframe tbody tr th {\n",
       "        vertical-align: top;\n",
       "    }\n",
       "\n",
       "    .dataframe thead th {\n",
       "        text-align: right;\n",
       "    }\n",
       "</style>\n",
       "<table border=\"1\" class=\"dataframe\">\n",
       "  <thead>\n",
       "    <tr style=\"text-align: right;\">\n",
       "      <th></th>\n",
       "      <th>text</th>\n",
       "      <th>label</th>\n",
       "    </tr>\n",
       "  </thead>\n",
       "  <tbody>\n",
       "    <tr>\n",
       "      <th>2273</th>\n",
       "      <td>Hey, I recently came into a bit of money. I li...</td>\n",
       "      <td>0</td>\n",
       "    </tr>\n",
       "    <tr>\n",
       "      <th>2757</th>\n",
       "      <td>I'm 26. Tuesday is day one of therapy. Day one...</td>\n",
       "      <td>1</td>\n",
       "    </tr>\n",
       "    <tr>\n",
       "      <th>1420</th>\n",
       "      <td>I grew up my country’s equivalent of the bible...</td>\n",
       "      <td>1</td>\n",
       "    </tr>\n",
       "  </tbody>\n",
       "</table>\n",
       "</div>"
      ],
      "text/plain": [
       "                                                   text  label\n",
       "2273  Hey, I recently came into a bit of money. I li...      0\n",
       "2757  I'm 26. Tuesday is day one of therapy. Day one...      1\n",
       "1420  I grew up my country’s equivalent of the bible...      1"
      ]
     },
     "execution_count": 4,
     "metadata": {},
     "output_type": "execute_result"
    }
   ],
   "source": [
    "not_used_cols = ['subreddit','post_id','sentence_range','confidence','social_timestamp']\n",
    "df1 = df.drop(not_used_cols,axis=1)\n",
    "df1.sample(3)"
   ]
  },
  {
   "cell_type": "code",
   "execution_count": 5,
   "id": "4600fb79",
   "metadata": {
    "papermill": {
     "duration": 0.028252,
     "end_time": "2023-05-01T17:48:10.933962",
     "exception": false,
     "start_time": "2023-05-01T17:48:10.905710",
     "status": "completed"
    },
    "tags": []
   },
   "outputs": [
    {
     "data": {
      "text/plain": [
       "array([1, 0], dtype=int64)"
      ]
     },
     "execution_count": 5,
     "metadata": {},
     "output_type": "execute_result"
    }
   ],
   "source": [
    "df1['label'].unique()"
   ]
  },
  {
   "cell_type": "markdown",
   "id": "ad997988",
   "metadata": {
    "papermill": {
     "duration": 0.01465,
     "end_time": "2023-05-01T17:48:10.963768",
     "exception": false,
     "start_time": "2023-05-01T17:48:10.949118",
     "status": "completed"
    },
    "tags": []
   },
   "source": [
    "## Text processing\n",
    "* importing required libraries (nltk,spacy,urllib,re etc.)\n",
    "* downloading required database (omw), wordnet, punkt, stopwords\n",
    "* cleaning data (with regualr expression)"
   ]
  },
  {
   "cell_type": "code",
   "execution_count": 6,
   "id": "d757bd72",
   "metadata": {
    "papermill": {
     "duration": 17.77643,
     "end_time": "2023-05-01T17:48:28.755190",
     "exception": false,
     "start_time": "2023-05-01T17:48:10.978760",
     "status": "completed"
    },
    "tags": []
   },
   "outputs": [],
   "source": [
    "import nltk\n",
    "import re\n",
    "from urllib.parse import urlparse\n",
    "from spacy import load\n",
    "from nltk.stem import WordNetLemmatizer\n",
    "from nltk.corpus import stopwords\n",
    "from nltk.tokenize import word_tokenize"
   ]
  },
  {
   "cell_type": "code",
   "execution_count": 7,
   "id": "2b9c5426",
   "metadata": {
    "papermill": {
     "duration": 2.703846,
     "end_time": "2023-05-01T17:48:31.475680",
     "exception": false,
     "start_time": "2023-05-01T17:48:28.771834",
     "status": "completed"
    },
    "tags": []
   },
   "outputs": [
    {
     "name": "stderr",
     "output_type": "stream",
     "text": [
      "[nltk_data] Downloading package omw-1.4 to\n",
      "[nltk_data]     C:\\Users\\LENOVO\\AppData\\Roaming\\nltk_data...\n",
      "[nltk_data]   Package omw-1.4 is already up-to-date!\n",
      "[nltk_data] Downloading package wordnet to\n",
      "[nltk_data]     C:\\Users\\LENOVO\\AppData\\Roaming\\nltk_data...\n",
      "[nltk_data]   Package wordnet is already up-to-date!\n",
      "[nltk_data] Downloading package wordnet2022 to\n",
      "[nltk_data]     C:\\Users\\LENOVO\\AppData\\Roaming\\nltk_data...\n",
      "[nltk_data]   Package wordnet2022 is already up-to-date!\n",
      "[nltk_data] Downloading package punkt to\n",
      "[nltk_data]     C:\\Users\\LENOVO\\AppData\\Roaming\\nltk_data...\n",
      "[nltk_data]   Package punkt is already up-to-date!\n",
      "[nltk_data] Downloading package stopwords to\n",
      "[nltk_data]     C:\\Users\\LENOVO\\AppData\\Roaming\\nltk_data...\n",
      "[nltk_data]   Package stopwords is already up-to-date!\n",
      "cp: cannot stat '/usr/share/nltk_data/corpora/wordnet2022': No such file or directory\n"
     ]
    }
   ],
   "source": [
    "nltk.download('omw-1.4') # Open Multilingual Wordnet, this is an lexical database \n",
    "nltk.download('wordnet') \n",
    "nltk.download('wordnet2022')\n",
    "nltk.download('punkt')\n",
    "nltk.download('stopwords')\n",
    "! cp -rf /usr/share/nltk_data/corpora/wordnet2022 /usr/share/nltk_data/corpora/wordnet"
   ]
  },
  {
   "cell_type": "code",
   "execution_count": 8,
   "id": "f71006da",
   "metadata": {
    "papermill": {
     "duration": 0.03111,
     "end_time": "2023-05-01T17:48:31.522591",
     "exception": false,
     "start_time": "2023-05-01T17:48:31.491481",
     "status": "completed"
    },
    "tags": []
   },
   "outputs": [
    {
     "name": "stdout",
     "output_type": "stream",
     "text": [
      "['i', 'me', 'my', 'myself', 'we', 'our', 'ours', 'ourselves', 'you', \"you're\", \"you've\", \"you'll\", \"you'd\", 'your', 'yours', 'yourself', 'yourselves', 'he', 'him', 'his', 'himself', 'she', \"she's\", 'her', 'hers', 'herself', 'it', \"it's\", 'its', 'itself', 'they', 'them', 'their', 'theirs', 'themselves', 'what', 'which', 'who', 'whom', 'this', 'that', \"that'll\", 'these', 'those', 'am', 'is', 'are', 'was', 'were', 'be', 'been', 'being', 'have', 'has', 'had', 'having', 'do', 'does', 'did', 'doing', 'a', 'an', 'the', 'and', 'but', 'if', 'or', 'because', 'as', 'until', 'while', 'of', 'at', 'by', 'for', 'with', 'about', 'against', 'between', 'into', 'through', 'during', 'before', 'after', 'above', 'below', 'to', 'from', 'up', 'down', 'in', 'out', 'on', 'off', 'over', 'under', 'again', 'further', 'then', 'once', 'here', 'there', 'when', 'where', 'why', 'how', 'all', 'any', 'both', 'each', 'few', 'more', 'most', 'other', 'some', 'such', 'no', 'nor', 'not', 'only', 'own', 'same', 'so', 'than', 'too', 'very', 's', 't', 'can', 'will', 'just', 'don', \"don't\", 'should', \"should've\", 'now', 'd', 'll', 'm', 'o', 're', 've', 'y', 'ain', 'aren', \"aren't\", 'couldn', \"couldn't\", 'didn', \"didn't\", 'doesn', \"doesn't\", 'hadn', \"hadn't\", 'hasn', \"hasn't\", 'haven', \"haven't\", 'isn', \"isn't\", 'ma', 'mightn', \"mightn't\", 'mustn', \"mustn't\", 'needn', \"needn't\", 'shan', \"shan't\", 'shouldn', \"shouldn't\", 'wasn', \"wasn't\", 'weren', \"weren't\", 'won', \"won't\", 'wouldn', \"wouldn't\"]\n"
     ]
    }
   ],
   "source": [
    "lemmatizer = WordNetLemmatizer()\n",
    "stop_words = list(stopwords.words('english'))\n",
    "print(stop_words)"
   ]
  },
  {
   "cell_type": "markdown",
   "id": "166e7be7",
   "metadata": {
    "papermill": {
     "duration": 0.015553,
     "end_time": "2023-05-01T17:48:31.554225",
     "exception": false,
     "start_time": "2023-05-01T17:48:31.538672",
     "status": "completed"
    },
    "tags": []
   },
   "source": [
    "### Regular expressions for cleaning text data"
   ]
  },
  {
   "cell_type": "code",
   "execution_count": 9,
   "id": "db2a62e0",
   "metadata": {
    "papermill": {
     "duration": 0.032232,
     "end_time": "2023-05-01T17:48:31.602027",
     "exception": false,
     "start_time": "2023-05-01T17:48:31.569795",
     "status": "completed"
    },
    "tags": []
   },
   "outputs": [],
   "source": [
    "def textPocess(sent):\n",
    "    try:\n",
    "        # brackets replacing by space\n",
    "        sent = re.sub('[][)(]',' ',sent)\n",
    "\n",
    "        # url removing\n",
    "        sent = [word for word in sent.split() if not urlparse(word).scheme]\n",
    "        sent = ' '.join(sent)\n",
    "\n",
    "        # removing escap characters\n",
    "        sent = re.sub(r'\\@\\w+','',sent)\n",
    "\n",
    "        # removing html tags \n",
    "        sent = re.sub(re.compile(\"<.*?>\"),'',sent)\n",
    "\n",
    "        # getting only characters and numbers from text\n",
    "        sent = re.sub(\"[^A-Za-z0-9]\",' ',sent)\n",
    "\n",
    "        # lower case all words\n",
    "        sent = sent.lower()\n",
    "        \n",
    "        # strip all words from sentences\n",
    "        sent = [word.strip() for word in sent.split()]\n",
    "        sent = ' '.join(sent)\n",
    "\n",
    "        # word tokenization\n",
    "        tokens = word_tokenize(sent)\n",
    "        \n",
    "        # removing words which are in stopwords\n",
    "        for word in tokens:\n",
    "            if word in stop_words:\n",
    "                tokens.remove(word)\n",
    "        \n",
    "        # lemmatization\n",
    "        sent = [lemmatizer.lemmatize(word) for word in tokens]\n",
    "        sent = ' '.join(sent)\n",
    "        return sent\n",
    "    \n",
    "    except Exception as ex:\n",
    "        print(sent,\"\\n\")\n",
    "        print(\"Error \",ex)\n",
    "    "
   ]
  },
  {
   "cell_type": "code",
   "execution_count": 10,
   "id": "34909fbc",
   "metadata": {
    "papermill": {
     "duration": 6.108775,
     "end_time": "2023-05-01T17:48:37.726806",
     "exception": false,
     "start_time": "2023-05-01T17:48:31.618031",
     "status": "completed"
    },
    "tags": []
   },
   "outputs": [
    {
     "data": {
      "text/html": [
       "<div>\n",
       "<style scoped>\n",
       "    .dataframe tbody tr th:only-of-type {\n",
       "        vertical-align: middle;\n",
       "    }\n",
       "\n",
       "    .dataframe tbody tr th {\n",
       "        vertical-align: top;\n",
       "    }\n",
       "\n",
       "    .dataframe thead th {\n",
       "        text-align: right;\n",
       "    }\n",
       "</style>\n",
       "<table border=\"1\" class=\"dataframe\">\n",
       "  <thead>\n",
       "    <tr style=\"text-align: right;\">\n",
       "      <th></th>\n",
       "      <th>text</th>\n",
       "      <th>label</th>\n",
       "      <th>processed_text</th>\n",
       "    </tr>\n",
       "  </thead>\n",
       "  <tbody>\n",
       "    <tr>\n",
       "      <th>2490</th>\n",
       "      <td>What if they were met with a broken system, th...</td>\n",
       "      <td>0</td>\n",
       "      <td>met broken system same way wa tried get help m...</td>\n",
       "    </tr>\n",
       "    <tr>\n",
       "      <th>2799</th>\n",
       "      <td>I am just sick of this being my daily life. Be...</td>\n",
       "      <td>1</td>\n",
       "      <td>am sick this daily life derealization the hype...</td>\n",
       "    </tr>\n",
       "    <tr>\n",
       "      <th>2736</th>\n",
       "      <td>(One is 3 yrs old and the other 19) . Now my d...</td>\n",
       "      <td>0</td>\n",
       "      <td>one 3 yr old 19 dad would beat mom over course...</td>\n",
       "    </tr>\n",
       "  </tbody>\n",
       "</table>\n",
       "</div>"
      ],
      "text/plain": [
       "                                                   text  label  \\\n",
       "2490  What if they were met with a broken system, th...      0   \n",
       "2799  I am just sick of this being my daily life. Be...      1   \n",
       "2736  (One is 3 yrs old and the other 19) . Now my d...      0   \n",
       "\n",
       "                                         processed_text  \n",
       "2490  met broken system same way wa tried get help m...  \n",
       "2799  am sick this daily life derealization the hype...  \n",
       "2736  one 3 yr old 19 dad would beat mom over course...  "
      ]
     },
     "execution_count": 10,
     "metadata": {},
     "output_type": "execute_result"
    }
   ],
   "source": [
    "df1['processed_text'] = df1['text'].apply(lambda text: textPocess(text))\n",
    "df1.sample(3)"
   ]
  },
  {
   "cell_type": "code",
   "execution_count": 11,
   "id": "8a07273a",
   "metadata": {
    "papermill": {
     "duration": 0.028464,
     "end_time": "2023-05-01T17:48:37.775518",
     "exception": false,
     "start_time": "2023-05-01T17:48:37.747054",
     "status": "completed"
    },
    "tags": []
   },
   "outputs": [
    {
     "name": "stdout",
     "output_type": "stream",
     "text": [
      "without process ---->  With a switch blade and open arms In a sweater vest that covers a ragged undershirt stained with my innocence Through faces that are never the same as the ones I dread finding in the crowd In the night, I rediscover my love of mares and how hoarse I can be in the morning It's the taste of blood but I am not bleeding\n",
      "\n",
      "after process ---->  switch blade open arm a sweater vest cover a ragged undershirt stained innocence face are never same one dread finding crowd the night rediscover my love mare how hoarse can in the morning s the taste blood i not bleeding\n"
     ]
    }
   ],
   "source": [
    "print(\"without process ----> \",df1['text'].iloc[23],end='\\n\\n')\n",
    "print(\"after process ----> \",df1['processed_text'].iloc[23])"
   ]
  },
  {
   "cell_type": "markdown",
   "id": "1760dcbb",
   "metadata": {
    "papermill": {
     "duration": 0.01609,
     "end_time": "2023-05-01T17:48:37.819324",
     "exception": false,
     "start_time": "2023-05-01T17:48:37.803234",
     "status": "completed"
    },
    "tags": []
   },
   "source": [
    "## Vectorization / Word embedding\n",
    "* BOW (Bag Of Words) / TF-IDF vectorizer\n",
    "* converting it into dataframes"
   ]
  },
  {
   "cell_type": "markdown",
   "id": "74745a72",
   "metadata": {
    "papermill": {
     "duration": 0.026431,
     "end_time": "2023-05-01T17:48:37.862378",
     "exception": false,
     "start_time": "2023-05-01T17:48:37.835947",
     "status": "completed"
    },
    "tags": []
   },
   "source": [
    "### --> BOW (Bag Of Word) / count vectorizer"
   ]
  },
  {
   "cell_type": "code",
   "execution_count": 12,
   "id": "45146028",
   "metadata": {
    "papermill": {
     "duration": 0.026398,
     "end_time": "2023-05-01T17:48:37.904763",
     "exception": false,
     "start_time": "2023-05-01T17:48:37.878365",
     "status": "completed"
    },
    "tags": []
   },
   "outputs": [],
   "source": [
    "from sklearn.feature_extraction.text import CountVectorizer\n",
    "MIN_DF = 1 \n",
    "# min_df is used for removing terms that appear too infrequently. \n",
    "# For example: min_df = 0.01 means \"ignore terms that appear in less than 1% of the documents\". "
   ]
  },
  {
   "cell_type": "code",
   "execution_count": 13,
   "id": "09116055",
   "metadata": {
    "papermill": {
     "duration": 0.666569,
     "end_time": "2023-05-01T17:48:38.588102",
     "exception": false,
     "start_time": "2023-05-01T17:48:37.921533",
     "status": "completed"
    },
    "tags": []
   },
   "outputs": [
    {
     "data": {
      "text/plain": [
       "array([[0, 0, 0, ..., 0, 0, 0],\n",
       "       [0, 0, 0, ..., 0, 0, 0],\n",
       "       [0, 0, 0, ..., 0, 0, 0],\n",
       "       ...,\n",
       "       [0, 0, 0, ..., 0, 0, 0],\n",
       "       [0, 0, 0, ..., 0, 0, 0],\n",
       "       [0, 0, 0, ..., 0, 0, 0]], dtype=int64)"
      ]
     },
     "execution_count": 13,
     "metadata": {},
     "output_type": "execute_result"
    }
   ],
   "source": [
    "cv = CountVectorizer(min_df=MIN_DF)\n",
    "cv_df = cv.fit_transform(df1['processed_text'])\n",
    "cv_df.toarray()"
   ]
  },
  {
   "cell_type": "code",
   "execution_count": 14,
   "id": "ff530319",
   "metadata": {
    "papermill": {
     "duration": 0.205631,
     "end_time": "2023-05-01T17:48:38.809861",
     "exception": false,
     "start_time": "2023-05-01T17:48:38.604230",
     "status": "completed"
    },
    "tags": []
   },
   "outputs": [
    {
     "data": {
      "text/html": [
       "<div>\n",
       "<style scoped>\n",
       "    .dataframe tbody tr th:only-of-type {\n",
       "        vertical-align: middle;\n",
       "    }\n",
       "\n",
       "    .dataframe tbody tr th {\n",
       "        vertical-align: top;\n",
       "    }\n",
       "\n",
       "    .dataframe thead th {\n",
       "        text-align: right;\n",
       "    }\n",
       "</style>\n",
       "<table border=\"1\" class=\"dataframe\">\n",
       "  <thead>\n",
       "    <tr style=\"text-align: right;\">\n",
       "      <th></th>\n",
       "      <th>00</th>\n",
       "      <th>000</th>\n",
       "      <th>00am</th>\n",
       "      <th>00pm</th>\n",
       "      <th>02</th>\n",
       "      <th>06</th>\n",
       "      <th>10</th>\n",
       "      <th>100</th>\n",
       "      <th>1000</th>\n",
       "      <th>100kg</th>\n",
       "      <th>...</th>\n",
       "      <th>zines</th>\n",
       "      <th>zinsser</th>\n",
       "      <th>zip</th>\n",
       "      <th>zofran</th>\n",
       "      <th>zoloft</th>\n",
       "      <th>zombie</th>\n",
       "      <th>zone</th>\n",
       "      <th>zoo</th>\n",
       "      <th>zuko</th>\n",
       "      <th>zumba</th>\n",
       "    </tr>\n",
       "  </thead>\n",
       "  <tbody>\n",
       "    <tr>\n",
       "      <th>0</th>\n",
       "      <td>0</td>\n",
       "      <td>0</td>\n",
       "      <td>0</td>\n",
       "      <td>0</td>\n",
       "      <td>0</td>\n",
       "      <td>0</td>\n",
       "      <td>0</td>\n",
       "      <td>0</td>\n",
       "      <td>0</td>\n",
       "      <td>0</td>\n",
       "      <td>...</td>\n",
       "      <td>0</td>\n",
       "      <td>0</td>\n",
       "      <td>0</td>\n",
       "      <td>0</td>\n",
       "      <td>0</td>\n",
       "      <td>0</td>\n",
       "      <td>0</td>\n",
       "      <td>0</td>\n",
       "      <td>0</td>\n",
       "      <td>0</td>\n",
       "    </tr>\n",
       "    <tr>\n",
       "      <th>1</th>\n",
       "      <td>0</td>\n",
       "      <td>0</td>\n",
       "      <td>0</td>\n",
       "      <td>0</td>\n",
       "      <td>0</td>\n",
       "      <td>0</td>\n",
       "      <td>0</td>\n",
       "      <td>0</td>\n",
       "      <td>0</td>\n",
       "      <td>0</td>\n",
       "      <td>...</td>\n",
       "      <td>0</td>\n",
       "      <td>0</td>\n",
       "      <td>0</td>\n",
       "      <td>0</td>\n",
       "      <td>0</td>\n",
       "      <td>0</td>\n",
       "      <td>0</td>\n",
       "      <td>0</td>\n",
       "      <td>0</td>\n",
       "      <td>0</td>\n",
       "    </tr>\n",
       "    <tr>\n",
       "      <th>2</th>\n",
       "      <td>0</td>\n",
       "      <td>0</td>\n",
       "      <td>0</td>\n",
       "      <td>0</td>\n",
       "      <td>0</td>\n",
       "      <td>0</td>\n",
       "      <td>0</td>\n",
       "      <td>0</td>\n",
       "      <td>0</td>\n",
       "      <td>0</td>\n",
       "      <td>...</td>\n",
       "      <td>0</td>\n",
       "      <td>0</td>\n",
       "      <td>0</td>\n",
       "      <td>0</td>\n",
       "      <td>0</td>\n",
       "      <td>0</td>\n",
       "      <td>0</td>\n",
       "      <td>0</td>\n",
       "      <td>0</td>\n",
       "      <td>0</td>\n",
       "    </tr>\n",
       "  </tbody>\n",
       "</table>\n",
       "<p>3 rows × 10271 columns</p>\n",
       "</div>"
      ],
      "text/plain": [
       "   00  000  00am  00pm  02  06  10  100  1000  100kg  ...  zines  zinsser  \\\n",
       "0   0    0     0     0   0   0   0    0     0      0  ...      0        0   \n",
       "1   0    0     0     0   0   0   0    0     0      0  ...      0        0   \n",
       "2   0    0     0     0   0   0   0    0     0      0  ...      0        0   \n",
       "\n",
       "   zip  zofran  zoloft  zombie  zone  zoo  zuko  zumba  \n",
       "0    0       0       0       0     0    0     0      0  \n",
       "1    0       0       0       0     0    0     0      0  \n",
       "2    0       0       0       0     0    0     0      0  \n",
       "\n",
       "[3 rows x 10271 columns]"
      ]
     },
     "execution_count": 14,
     "metadata": {},
     "output_type": "execute_result"
    }
   ],
   "source": [
    "cv_df = pd.DataFrame(cv_df.toarray(),columns=cv.get_feature_names_out())\n",
    "cv_df.head(3)"
   ]
  },
  {
   "cell_type": "markdown",
   "id": "d5b816bb",
   "metadata": {
    "papermill": {
     "duration": 0.015873,
     "end_time": "2023-05-01T17:48:38.842261",
     "exception": false,
     "start_time": "2023-05-01T17:48:38.826388",
     "status": "completed"
    },
    "tags": []
   },
   "source": [
    "### --> TF-IDF (Term frequency - inverse document frequency)"
   ]
  },
  {
   "cell_type": "code",
   "execution_count": 15,
   "id": "0f1a056e",
   "metadata": {
    "papermill": {
     "duration": 0.025776,
     "end_time": "2023-05-01T17:48:38.884317",
     "exception": false,
     "start_time": "2023-05-01T17:48:38.858541",
     "status": "completed"
    },
    "tags": []
   },
   "outputs": [],
   "source": [
    "from sklearn.feature_extraction.text import TfidfVectorizer"
   ]
  },
  {
   "cell_type": "code",
   "execution_count": 16,
   "id": "b501d26c",
   "metadata": {
    "papermill": {
     "duration": 0.512695,
     "end_time": "2023-05-01T17:48:39.414395",
     "exception": false,
     "start_time": "2023-05-01T17:48:38.901700",
     "status": "completed"
    },
    "tags": []
   },
   "outputs": [
    {
     "data": {
      "text/plain": [
       "array([[0., 0., 0., ..., 0., 0., 0.],\n",
       "       [0., 0., 0., ..., 0., 0., 0.],\n",
       "       [0., 0., 0., ..., 0., 0., 0.],\n",
       "       ...,\n",
       "       [0., 0., 0., ..., 0., 0., 0.],\n",
       "       [0., 0., 0., ..., 0., 0., 0.],\n",
       "       [0., 0., 0., ..., 0., 0., 0.]])"
      ]
     },
     "execution_count": 16,
     "metadata": {},
     "output_type": "execute_result"
    }
   ],
   "source": [
    "tf = TfidfVectorizer(min_df=MIN_DF)\n",
    "tf_df = tf.fit_transform(df1['processed_text'])\n",
    "tf_df.toarray()"
   ]
  },
  {
   "cell_type": "code",
   "execution_count": 17,
   "id": "3f53c0a6",
   "metadata": {
    "papermill": {
     "duration": 0.370382,
     "end_time": "2023-05-01T17:48:39.801689",
     "exception": false,
     "start_time": "2023-05-01T17:48:39.431307",
     "status": "completed"
    },
    "tags": []
   },
   "outputs": [
    {
     "data": {
      "text/html": [
       "<div>\n",
       "<style scoped>\n",
       "    .dataframe tbody tr th:only-of-type {\n",
       "        vertical-align: middle;\n",
       "    }\n",
       "\n",
       "    .dataframe tbody tr th {\n",
       "        vertical-align: top;\n",
       "    }\n",
       "\n",
       "    .dataframe thead th {\n",
       "        text-align: right;\n",
       "    }\n",
       "</style>\n",
       "<table border=\"1\" class=\"dataframe\">\n",
       "  <thead>\n",
       "    <tr style=\"text-align: right;\">\n",
       "      <th></th>\n",
       "      <th>00</th>\n",
       "      <th>000</th>\n",
       "      <th>00am</th>\n",
       "      <th>00pm</th>\n",
       "      <th>02</th>\n",
       "      <th>06</th>\n",
       "      <th>10</th>\n",
       "      <th>100</th>\n",
       "      <th>1000</th>\n",
       "      <th>100kg</th>\n",
       "      <th>...</th>\n",
       "      <th>zines</th>\n",
       "      <th>zinsser</th>\n",
       "      <th>zip</th>\n",
       "      <th>zofran</th>\n",
       "      <th>zoloft</th>\n",
       "      <th>zombie</th>\n",
       "      <th>zone</th>\n",
       "      <th>zoo</th>\n",
       "      <th>zuko</th>\n",
       "      <th>zumba</th>\n",
       "    </tr>\n",
       "  </thead>\n",
       "  <tbody>\n",
       "    <tr>\n",
       "      <th>0</th>\n",
       "      <td>0.0</td>\n",
       "      <td>0.0</td>\n",
       "      <td>0.0</td>\n",
       "      <td>0.0</td>\n",
       "      <td>0.0</td>\n",
       "      <td>0.0</td>\n",
       "      <td>0.0</td>\n",
       "      <td>0.0</td>\n",
       "      <td>0.0</td>\n",
       "      <td>0.0</td>\n",
       "      <td>...</td>\n",
       "      <td>0.0</td>\n",
       "      <td>0.0</td>\n",
       "      <td>0.0</td>\n",
       "      <td>0.0</td>\n",
       "      <td>0.0</td>\n",
       "      <td>0.0</td>\n",
       "      <td>0.0</td>\n",
       "      <td>0.0</td>\n",
       "      <td>0.0</td>\n",
       "      <td>0.0</td>\n",
       "    </tr>\n",
       "    <tr>\n",
       "      <th>1</th>\n",
       "      <td>0.0</td>\n",
       "      <td>0.0</td>\n",
       "      <td>0.0</td>\n",
       "      <td>0.0</td>\n",
       "      <td>0.0</td>\n",
       "      <td>0.0</td>\n",
       "      <td>0.0</td>\n",
       "      <td>0.0</td>\n",
       "      <td>0.0</td>\n",
       "      <td>0.0</td>\n",
       "      <td>...</td>\n",
       "      <td>0.0</td>\n",
       "      <td>0.0</td>\n",
       "      <td>0.0</td>\n",
       "      <td>0.0</td>\n",
       "      <td>0.0</td>\n",
       "      <td>0.0</td>\n",
       "      <td>0.0</td>\n",
       "      <td>0.0</td>\n",
       "      <td>0.0</td>\n",
       "      <td>0.0</td>\n",
       "    </tr>\n",
       "    <tr>\n",
       "      <th>2</th>\n",
       "      <td>0.0</td>\n",
       "      <td>0.0</td>\n",
       "      <td>0.0</td>\n",
       "      <td>0.0</td>\n",
       "      <td>0.0</td>\n",
       "      <td>0.0</td>\n",
       "      <td>0.0</td>\n",
       "      <td>0.0</td>\n",
       "      <td>0.0</td>\n",
       "      <td>0.0</td>\n",
       "      <td>...</td>\n",
       "      <td>0.0</td>\n",
       "      <td>0.0</td>\n",
       "      <td>0.0</td>\n",
       "      <td>0.0</td>\n",
       "      <td>0.0</td>\n",
       "      <td>0.0</td>\n",
       "      <td>0.0</td>\n",
       "      <td>0.0</td>\n",
       "      <td>0.0</td>\n",
       "      <td>0.0</td>\n",
       "    </tr>\n",
       "  </tbody>\n",
       "</table>\n",
       "<p>3 rows × 10271 columns</p>\n",
       "</div>"
      ],
      "text/plain": [
       "    00  000  00am  00pm   02   06   10  100  1000  100kg  ...  zines  zinsser  \\\n",
       "0  0.0  0.0   0.0   0.0  0.0  0.0  0.0  0.0   0.0    0.0  ...    0.0      0.0   \n",
       "1  0.0  0.0   0.0   0.0  0.0  0.0  0.0  0.0   0.0    0.0  ...    0.0      0.0   \n",
       "2  0.0  0.0   0.0   0.0  0.0  0.0  0.0  0.0   0.0    0.0  ...    0.0      0.0   \n",
       "\n",
       "   zip  zofran  zoloft  zombie  zone  zoo  zuko  zumba  \n",
       "0  0.0     0.0     0.0     0.0   0.0  0.0   0.0    0.0  \n",
       "1  0.0     0.0     0.0     0.0   0.0  0.0   0.0    0.0  \n",
       "2  0.0     0.0     0.0     0.0   0.0  0.0   0.0    0.0  \n",
       "\n",
       "[3 rows x 10271 columns]"
      ]
     },
     "execution_count": 17,
     "metadata": {},
     "output_type": "execute_result"
    }
   ],
   "source": [
    "tf_df = pd.DataFrame(tf_df.toarray(),columns=tf.get_feature_names_out())\n",
    "tf_df.head(3)"
   ]
  },
  {
   "cell_type": "code",
   "execution_count": 18,
   "id": "9ac5b215",
   "metadata": {
    "papermill": {
     "duration": 23.100549,
     "end_time": "2023-05-01T17:49:02.919653",
     "exception": false,
     "start_time": "2023-05-01T17:48:39.819104",
     "status": "completed"
    },
    "tags": []
   },
   "outputs": [
    {
     "data": {
      "text/html": [
       "<div>\n",
       "<style scoped>\n",
       "    .dataframe tbody tr th:only-of-type {\n",
       "        vertical-align: middle;\n",
       "    }\n",
       "\n",
       "    .dataframe tbody tr th {\n",
       "        vertical-align: top;\n",
       "    }\n",
       "\n",
       "    .dataframe thead th {\n",
       "        text-align: right;\n",
       "    }\n",
       "</style>\n",
       "<table border=\"1\" class=\"dataframe\">\n",
       "  <thead>\n",
       "    <tr style=\"text-align: right;\">\n",
       "      <th></th>\n",
       "      <th>00</th>\n",
       "      <th>000</th>\n",
       "      <th>00am</th>\n",
       "      <th>00pm</th>\n",
       "      <th>02</th>\n",
       "      <th>06</th>\n",
       "      <th>10</th>\n",
       "      <th>100</th>\n",
       "      <th>1000</th>\n",
       "      <th>100kg</th>\n",
       "      <th>...</th>\n",
       "      <th>zines</th>\n",
       "      <th>zinsser</th>\n",
       "      <th>zip</th>\n",
       "      <th>zofran</th>\n",
       "      <th>zoloft</th>\n",
       "      <th>zombie</th>\n",
       "      <th>zone</th>\n",
       "      <th>zoo</th>\n",
       "      <th>zuko</th>\n",
       "      <th>zumba</th>\n",
       "    </tr>\n",
       "  </thead>\n",
       "  <tbody>\n",
       "    <tr>\n",
       "      <th>count</th>\n",
       "      <td>2838.000000</td>\n",
       "      <td>2838.000000</td>\n",
       "      <td>2838.000000</td>\n",
       "      <td>2838.000000</td>\n",
       "      <td>2838.000000</td>\n",
       "      <td>2838.000000</td>\n",
       "      <td>2838.000000</td>\n",
       "      <td>2838.000000</td>\n",
       "      <td>2838.000000</td>\n",
       "      <td>2838.000000</td>\n",
       "      <td>...</td>\n",
       "      <td>2838.000000</td>\n",
       "      <td>2838.000000</td>\n",
       "      <td>2838.000000</td>\n",
       "      <td>2838.000000</td>\n",
       "      <td>2838.000000</td>\n",
       "      <td>2838.000000</td>\n",
       "      <td>2838.000000</td>\n",
       "      <td>2838.000000</td>\n",
       "      <td>2838.000000</td>\n",
       "      <td>2838.000000</td>\n",
       "    </tr>\n",
       "    <tr>\n",
       "      <th>mean</th>\n",
       "      <td>0.000452</td>\n",
       "      <td>0.000548</td>\n",
       "      <td>0.000123</td>\n",
       "      <td>0.000159</td>\n",
       "      <td>0.000109</td>\n",
       "      <td>0.000069</td>\n",
       "      <td>0.003358</td>\n",
       "      <td>0.001783</td>\n",
       "      <td>0.000576</td>\n",
       "      <td>0.000106</td>\n",
       "      <td>...</td>\n",
       "      <td>0.000078</td>\n",
       "      <td>0.000072</td>\n",
       "      <td>0.000204</td>\n",
       "      <td>0.000078</td>\n",
       "      <td>0.000715</td>\n",
       "      <td>0.000126</td>\n",
       "      <td>0.000245</td>\n",
       "      <td>0.000089</td>\n",
       "      <td>0.000054</td>\n",
       "      <td>0.000040</td>\n",
       "    </tr>\n",
       "    <tr>\n",
       "      <th>std</th>\n",
       "      <td>0.011158</td>\n",
       "      <td>0.009998</td>\n",
       "      <td>0.006576</td>\n",
       "      <td>0.006636</td>\n",
       "      <td>0.005801</td>\n",
       "      <td>0.003671</td>\n",
       "      <td>0.021354</td>\n",
       "      <td>0.017204</td>\n",
       "      <td>0.011156</td>\n",
       "      <td>0.005624</td>\n",
       "      <td>...</td>\n",
       "      <td>0.004145</td>\n",
       "      <td>0.003845</td>\n",
       "      <td>0.007786</td>\n",
       "      <td>0.004157</td>\n",
       "      <td>0.011797</td>\n",
       "      <td>0.004733</td>\n",
       "      <td>0.006851</td>\n",
       "      <td>0.004754</td>\n",
       "      <td>0.002873</td>\n",
       "      <td>0.002105</td>\n",
       "    </tr>\n",
       "    <tr>\n",
       "      <th>min</th>\n",
       "      <td>0.000000</td>\n",
       "      <td>0.000000</td>\n",
       "      <td>0.000000</td>\n",
       "      <td>0.000000</td>\n",
       "      <td>0.000000</td>\n",
       "      <td>0.000000</td>\n",
       "      <td>0.000000</td>\n",
       "      <td>0.000000</td>\n",
       "      <td>0.000000</td>\n",
       "      <td>0.000000</td>\n",
       "      <td>...</td>\n",
       "      <td>0.000000</td>\n",
       "      <td>0.000000</td>\n",
       "      <td>0.000000</td>\n",
       "      <td>0.000000</td>\n",
       "      <td>0.000000</td>\n",
       "      <td>0.000000</td>\n",
       "      <td>0.000000</td>\n",
       "      <td>0.000000</td>\n",
       "      <td>0.000000</td>\n",
       "      <td>0.000000</td>\n",
       "    </tr>\n",
       "    <tr>\n",
       "      <th>25%</th>\n",
       "      <td>0.000000</td>\n",
       "      <td>0.000000</td>\n",
       "      <td>0.000000</td>\n",
       "      <td>0.000000</td>\n",
       "      <td>0.000000</td>\n",
       "      <td>0.000000</td>\n",
       "      <td>0.000000</td>\n",
       "      <td>0.000000</td>\n",
       "      <td>0.000000</td>\n",
       "      <td>0.000000</td>\n",
       "      <td>...</td>\n",
       "      <td>0.000000</td>\n",
       "      <td>0.000000</td>\n",
       "      <td>0.000000</td>\n",
       "      <td>0.000000</td>\n",
       "      <td>0.000000</td>\n",
       "      <td>0.000000</td>\n",
       "      <td>0.000000</td>\n",
       "      <td>0.000000</td>\n",
       "      <td>0.000000</td>\n",
       "      <td>0.000000</td>\n",
       "    </tr>\n",
       "    <tr>\n",
       "      <th>50%</th>\n",
       "      <td>0.000000</td>\n",
       "      <td>0.000000</td>\n",
       "      <td>0.000000</td>\n",
       "      <td>0.000000</td>\n",
       "      <td>0.000000</td>\n",
       "      <td>0.000000</td>\n",
       "      <td>0.000000</td>\n",
       "      <td>0.000000</td>\n",
       "      <td>0.000000</td>\n",
       "      <td>0.000000</td>\n",
       "      <td>...</td>\n",
       "      <td>0.000000</td>\n",
       "      <td>0.000000</td>\n",
       "      <td>0.000000</td>\n",
       "      <td>0.000000</td>\n",
       "      <td>0.000000</td>\n",
       "      <td>0.000000</td>\n",
       "      <td>0.000000</td>\n",
       "      <td>0.000000</td>\n",
       "      <td>0.000000</td>\n",
       "      <td>0.000000</td>\n",
       "    </tr>\n",
       "    <tr>\n",
       "      <th>75%</th>\n",
       "      <td>0.000000</td>\n",
       "      <td>0.000000</td>\n",
       "      <td>0.000000</td>\n",
       "      <td>0.000000</td>\n",
       "      <td>0.000000</td>\n",
       "      <td>0.000000</td>\n",
       "      <td>0.000000</td>\n",
       "      <td>0.000000</td>\n",
       "      <td>0.000000</td>\n",
       "      <td>0.000000</td>\n",
       "      <td>...</td>\n",
       "      <td>0.000000</td>\n",
       "      <td>0.000000</td>\n",
       "      <td>0.000000</td>\n",
       "      <td>0.000000</td>\n",
       "      <td>0.000000</td>\n",
       "      <td>0.000000</td>\n",
       "      <td>0.000000</td>\n",
       "      <td>0.000000</td>\n",
       "      <td>0.000000</td>\n",
       "      <td>0.000000</td>\n",
       "    </tr>\n",
       "    <tr>\n",
       "      <th>max</th>\n",
       "      <td>0.348402</td>\n",
       "      <td>0.327600</td>\n",
       "      <td>0.350306</td>\n",
       "      <td>0.333106</td>\n",
       "      <td>0.309059</td>\n",
       "      <td>0.195542</td>\n",
       "      <td>0.258662</td>\n",
       "      <td>0.267281</td>\n",
       "      <td>0.310333</td>\n",
       "      <td>0.299611</td>\n",
       "      <td>...</td>\n",
       "      <td>0.220793</td>\n",
       "      <td>0.204838</td>\n",
       "      <td>0.336077</td>\n",
       "      <td>0.221471</td>\n",
       "      <td>0.306537</td>\n",
       "      <td>0.183335</td>\n",
       "      <td>0.268149</td>\n",
       "      <td>0.253283</td>\n",
       "      <td>0.153067</td>\n",
       "      <td>0.112136</td>\n",
       "    </tr>\n",
       "  </tbody>\n",
       "</table>\n",
       "<p>8 rows × 10271 columns</p>\n",
       "</div>"
      ],
      "text/plain": [
       "                00          000         00am         00pm           02  \\\n",
       "count  2838.000000  2838.000000  2838.000000  2838.000000  2838.000000   \n",
       "mean      0.000452     0.000548     0.000123     0.000159     0.000109   \n",
       "std       0.011158     0.009998     0.006576     0.006636     0.005801   \n",
       "min       0.000000     0.000000     0.000000     0.000000     0.000000   \n",
       "25%       0.000000     0.000000     0.000000     0.000000     0.000000   \n",
       "50%       0.000000     0.000000     0.000000     0.000000     0.000000   \n",
       "75%       0.000000     0.000000     0.000000     0.000000     0.000000   \n",
       "max       0.348402     0.327600     0.350306     0.333106     0.309059   \n",
       "\n",
       "                06           10          100         1000        100kg  ...  \\\n",
       "count  2838.000000  2838.000000  2838.000000  2838.000000  2838.000000  ...   \n",
       "mean      0.000069     0.003358     0.001783     0.000576     0.000106  ...   \n",
       "std       0.003671     0.021354     0.017204     0.011156     0.005624  ...   \n",
       "min       0.000000     0.000000     0.000000     0.000000     0.000000  ...   \n",
       "25%       0.000000     0.000000     0.000000     0.000000     0.000000  ...   \n",
       "50%       0.000000     0.000000     0.000000     0.000000     0.000000  ...   \n",
       "75%       0.000000     0.000000     0.000000     0.000000     0.000000  ...   \n",
       "max       0.195542     0.258662     0.267281     0.310333     0.299611  ...   \n",
       "\n",
       "             zines      zinsser          zip       zofran       zoloft  \\\n",
       "count  2838.000000  2838.000000  2838.000000  2838.000000  2838.000000   \n",
       "mean      0.000078     0.000072     0.000204     0.000078     0.000715   \n",
       "std       0.004145     0.003845     0.007786     0.004157     0.011797   \n",
       "min       0.000000     0.000000     0.000000     0.000000     0.000000   \n",
       "25%       0.000000     0.000000     0.000000     0.000000     0.000000   \n",
       "50%       0.000000     0.000000     0.000000     0.000000     0.000000   \n",
       "75%       0.000000     0.000000     0.000000     0.000000     0.000000   \n",
       "max       0.220793     0.204838     0.336077     0.221471     0.306537   \n",
       "\n",
       "            zombie         zone          zoo         zuko        zumba  \n",
       "count  2838.000000  2838.000000  2838.000000  2838.000000  2838.000000  \n",
       "mean      0.000126     0.000245     0.000089     0.000054     0.000040  \n",
       "std       0.004733     0.006851     0.004754     0.002873     0.002105  \n",
       "min       0.000000     0.000000     0.000000     0.000000     0.000000  \n",
       "25%       0.000000     0.000000     0.000000     0.000000     0.000000  \n",
       "50%       0.000000     0.000000     0.000000     0.000000     0.000000  \n",
       "75%       0.000000     0.000000     0.000000     0.000000     0.000000  \n",
       "max       0.183335     0.268149     0.253283     0.153067     0.112136  \n",
       "\n",
       "[8 rows x 10271 columns]"
      ]
     },
     "execution_count": 18,
     "metadata": {},
     "output_type": "execute_result"
    }
   ],
   "source": [
    "tf_df.describe()"
   ]
  },
  {
   "cell_type": "code",
   "execution_count": 19,
   "id": "8290570f",
   "metadata": {
    "papermill": {
     "duration": 0.029183,
     "end_time": "2023-05-01T17:49:02.965995",
     "exception": false,
     "start_time": "2023-05-01T17:49:02.936812",
     "status": "completed"
    },
    "tags": []
   },
   "outputs": [
    {
     "data": {
      "text/plain": [
       "((2838, 10271), (2838, 10271))"
      ]
     },
     "execution_count": 19,
     "metadata": {},
     "output_type": "execute_result"
    }
   ],
   "source": [
    "cv_df.shape,tf_df.shape"
   ]
  },
  {
   "cell_type": "code",
   "execution_count": 39,
   "id": "f823eb78-eee2-40e1-b58f-4bf28d46fd2e",
   "metadata": {},
   "outputs": [],
   "source": [
    "import pickle\n",
    "from sklearn.feature_extraction.text import CountVectorizer, TfidfVectorizer\n",
    "\n",
    "# Assuming you've already transformed your df1['processed_text'] column with these vectorizers\n",
    "\n",
    "# Save the CountVectorizer\n",
    "cv = CountVectorizer(min_df=1)\n",
    "cv_df = cv.fit_transform(df1['processed_text'])\n",
    "cv_df.toarray()\n",
    "\n",
    "with open('count_vectorizer.pkl', 'wb') as f:\n",
    "    pickle.dump(cv, f)\n",
    "\n",
    "# Save the TfidfVectorizer\n",
    "tf = TfidfVectorizer(min_df=1)\n",
    "tf_df = tf.fit_transform(df1['processed_text'])\n",
    "tf_df.toarray()\n",
    "\n",
    "with open('tfidf_vectorizer.pkl', 'wb') as f:\n",
    "    pickle.dump(tf, f)\n"
   ]
  },
  {
   "cell_type": "markdown",
   "id": "a164e0a3",
   "metadata": {
    "papermill": {
     "duration": 0.016793,
     "end_time": "2023-05-01T17:49:02.999894",
     "exception": false,
     "start_time": "2023-05-01T17:49:02.983101",
     "status": "completed"
    },
    "tags": []
   },
   "source": [
    "## Model Building\n",
    "* with BOW (Logistic Regression, MultonomialNB, RandomForestClassifier)\n",
    "* with TF-IDF (Logistic Regression, MultonomialNB, RandomForestClassifier)\n"
   ]
  },
  {
   "cell_type": "code",
   "execution_count": 20,
   "id": "acaac3e1",
   "metadata": {
    "papermill": {
     "duration": 0.319175,
     "end_time": "2023-05-01T17:49:03.336654",
     "exception": false,
     "start_time": "2023-05-01T17:49:03.017479",
     "status": "completed"
    },
    "tags": []
   },
   "outputs": [],
   "source": [
    "from sklearn.model_selection import train_test_split\n",
    "from sklearn.linear_model import LogisticRegression\n",
    "from sklearn.naive_bayes import MultinomialNB\n",
    "from sklearn.ensemble import RandomForestClassifier\n",
    "import warnings\n",
    "warnings.filterwarnings('ignore')"
   ]
  },
  {
   "cell_type": "markdown",
   "id": "b6f1a2bd",
   "metadata": {
    "papermill": {
     "duration": 0.016679,
     "end_time": "2023-05-01T17:49:03.370441",
     "exception": false,
     "start_time": "2023-05-01T17:49:03.353762",
     "status": "completed"
    },
    "tags": []
   },
   "source": [
    "###  --> For BOW"
   ]
  },
  {
   "cell_type": "code",
   "execution_count": 21,
   "id": "ffe6486c",
   "metadata": {
    "papermill": {
     "duration": 0.124719,
     "end_time": "2023-05-01T17:49:03.512144",
     "exception": false,
     "start_time": "2023-05-01T17:49:03.387425",
     "status": "completed"
    },
    "tags": []
   },
   "outputs": [
    {
     "data": {
      "text/plain": [
       "((2128, 10271), (710,))"
      ]
     },
     "execution_count": 21,
     "metadata": {},
     "output_type": "execute_result"
    }
   ],
   "source": [
    "X_train,X_test,y_train,y_test = train_test_split(cv_df,df1['label'],stratify=df1['label'])\n",
    "X_train.shape,y_test.shape"
   ]
  },
  {
   "cell_type": "markdown",
   "id": "741770f7",
   "metadata": {
    "papermill": {
     "duration": 0.017013,
     "end_time": "2023-05-01T17:49:03.546352",
     "exception": false,
     "start_time": "2023-05-01T17:49:03.529339",
     "status": "completed"
    },
    "tags": []
   },
   "source": [
    "#### --------> Logistic Regression"
   ]
  },
  {
   "cell_type": "code",
   "execution_count": 22,
   "id": "2c94a6e9",
   "metadata": {
    "papermill": {
     "duration": 2.348768,
     "end_time": "2023-05-01T17:49:05.912881",
     "exception": false,
     "start_time": "2023-05-01T17:49:03.564113",
     "status": "completed"
    },
    "tags": []
   },
   "outputs": [
    {
     "data": {
      "text/plain": [
       "(0.9971804511278195, 0.7295774647887324)"
      ]
     },
     "execution_count": 22,
     "metadata": {},
     "output_type": "execute_result"
    }
   ],
   "source": [
    "model_lr = LogisticRegression().fit(X_train,y_train)\n",
    "model_lr.score(X_train,y_train),model_lr.score(X_test,y_test)"
   ]
  },
  {
   "cell_type": "markdown",
   "id": "e1d821c6",
   "metadata": {
    "papermill": {
     "duration": 0.044637,
     "end_time": "2023-05-01T17:49:06.002762",
     "exception": false,
     "start_time": "2023-05-01T17:49:05.958125",
     "status": "completed"
    },
    "tags": []
   },
   "source": [
    "#### --------> Naive Bayes"
   ]
  },
  {
   "cell_type": "code",
   "execution_count": 23,
   "id": "09e8e413",
   "metadata": {
    "papermill": {
     "duration": 0.704585,
     "end_time": "2023-05-01T17:49:06.736871",
     "exception": false,
     "start_time": "2023-05-01T17:49:06.032286",
     "status": "completed"
    },
    "tags": []
   },
   "outputs": [
    {
     "data": {
      "text/plain": [
       "(0.9234022556390977, 0.7408450704225352)"
      ]
     },
     "execution_count": 23,
     "metadata": {},
     "output_type": "execute_result"
    }
   ],
   "source": [
    "model_nb = MultinomialNB().fit(X_train,y_train)\n",
    "model_nb.score(X_train,y_train),model_nb.score(X_test,y_test)"
   ]
  },
  {
   "cell_type": "markdown",
   "id": "70c28446",
   "metadata": {
    "papermill": {
     "duration": 0.045177,
     "end_time": "2023-05-01T17:49:06.828788",
     "exception": false,
     "start_time": "2023-05-01T17:49:06.783611",
     "status": "completed"
    },
    "tags": []
   },
   "source": [
    "#### --------> Random Forest "
   ]
  },
  {
   "cell_type": "code",
   "execution_count": 24,
   "id": "fb6ac8d9",
   "metadata": {
    "papermill": {
     "duration": 5.797611,
     "end_time": "2023-05-01T17:49:12.652410",
     "exception": false,
     "start_time": "2023-05-01T17:49:06.854799",
     "status": "completed"
    },
    "tags": []
   },
   "outputs": [
    {
     "data": {
      "text/plain": [
       "(0.9990601503759399, 0.7169014084507043)"
      ]
     },
     "execution_count": 24,
     "metadata": {},
     "output_type": "execute_result"
    }
   ],
   "source": [
    "model_rf = RandomForestClassifier().fit(X_train,y_train)\n",
    "model_rf.score(X_train,y_train),model_rf.score(X_test,y_test)"
   ]
  },
  {
   "cell_type": "markdown",
   "id": "cd07844a",
   "metadata": {
    "papermill": {
     "duration": 0.017078,
     "end_time": "2023-05-01T17:49:12.687007",
     "exception": false,
     "start_time": "2023-05-01T17:49:12.669929",
     "status": "completed"
    },
    "tags": []
   },
   "source": [
    "### --> For TF-IDF"
   ]
  },
  {
   "cell_type": "code",
   "execution_count": 25,
   "id": "30fe5f82",
   "metadata": {
    "papermill": {
     "duration": 0.107555,
     "end_time": "2023-05-01T17:49:12.812021",
     "exception": false,
     "start_time": "2023-05-01T17:49:12.704466",
     "status": "completed"
    },
    "tags": []
   },
   "outputs": [
    {
     "data": {
      "text/plain": [
       "((2128, 10271), (710,))"
      ]
     },
     "execution_count": 25,
     "metadata": {},
     "output_type": "execute_result"
    }
   ],
   "source": [
    "X_train1,X_test1,y_train1,y_test1 = train_test_split(tf_df,df1['label'],stratify=df1['label'])\n",
    "X_train1.shape,y_test1.shape"
   ]
  },
  {
   "cell_type": "markdown",
   "id": "8b1def51",
   "metadata": {
    "papermill": {
     "duration": 0.017182,
     "end_time": "2023-05-01T17:49:12.846722",
     "exception": false,
     "start_time": "2023-05-01T17:49:12.829540",
     "status": "completed"
    },
    "tags": []
   },
   "source": [
    "#### --------> Logistic Regression"
   ]
  },
  {
   "cell_type": "code",
   "execution_count": 26,
   "id": "e68dc184",
   "metadata": {
    "papermill": {
     "duration": 0.904057,
     "end_time": "2023-05-01T17:49:13.768396",
     "exception": false,
     "start_time": "2023-05-01T17:49:12.864339",
     "status": "completed"
    },
    "tags": []
   },
   "outputs": [
    {
     "data": {
      "text/plain": [
       "(0.9107142857142857, 0.7577464788732394)"
      ]
     },
     "execution_count": 26,
     "metadata": {},
     "output_type": "execute_result"
    }
   ],
   "source": [
    "model_lr = LogisticRegression().fit(X_train1,y_train1)\n",
    "model_lr.score(X_train1,y_train1),model_lr.score(X_test1,y_test1)"
   ]
  },
  {
   "cell_type": "markdown",
   "id": "a55c81c8",
   "metadata": {
    "papermill": {
     "duration": 0.044563,
     "end_time": "2023-05-01T17:49:13.858334",
     "exception": false,
     "start_time": "2023-05-01T17:49:13.813771",
     "status": "completed"
    },
    "tags": []
   },
   "source": [
    "#### --------> Naive Bayes"
   ]
  },
  {
   "cell_type": "code",
   "execution_count": 27,
   "id": "db584c65",
   "metadata": {
    "papermill": {
     "duration": 0.51581,
     "end_time": "2023-05-01T17:49:14.404221",
     "exception": false,
     "start_time": "2023-05-01T17:49:13.888411",
     "status": "completed"
    },
    "tags": []
   },
   "outputs": [
    {
     "data": {
      "text/plain": [
       "(0.8388157894736842, 0.7140845070422536)"
      ]
     },
     "execution_count": 27,
     "metadata": {},
     "output_type": "execute_result"
    }
   ],
   "source": [
    "model_nb = MultinomialNB().fit(X_train1,y_train1)\n",
    "model_nb.score(X_train1,y_train1),model_nb.score(X_test1,y_test1)"
   ]
  },
  {
   "cell_type": "markdown",
   "id": "d9291968",
   "metadata": {
    "papermill": {
     "duration": 0.045642,
     "end_time": "2023-05-01T17:49:14.496391",
     "exception": false,
     "start_time": "2023-05-01T17:49:14.450749",
     "status": "completed"
    },
    "tags": []
   },
   "source": [
    "#### --------> Random Forest "
   ]
  },
  {
   "cell_type": "markdown",
   "id": "2c3d8c3b",
   "metadata": {
    "execution": {
     "iopub.execute_input": "2023-05-01T09:41:26.043783Z",
     "iopub.status.busy": "2023-05-01T09:41:26.043328Z",
     "iopub.status.idle": "2023-05-01T09:41:31.828619Z",
     "shell.execute_reply": "2023-05-01T09:41:31.827289Z",
     "shell.execute_reply.started": "2023-05-01T09:41:26.043744Z"
    },
    "papermill": {
     "duration": 0.017411,
     "end_time": "2023-05-01T17:49:14.542053",
     "exception": false,
     "start_time": "2023-05-01T17:49:14.524642",
     "status": "completed"
    },
    "tags": []
   },
   "source": [
    "### model_rf = RandomForestClassifier().fit(X_train1,y_train1)\n",
    "model_rf.score(X_train1,y_train1),model_rf.score(X_test1,y_test1)"
   ]
  },
  {
   "cell_type": "markdown",
   "id": "ca360fd2",
   "metadata": {
    "papermill": {
     "duration": 0.017225,
     "end_time": "2023-05-01T17:49:14.613058",
     "exception": false,
     "start_time": "2023-05-01T17:49:14.595833",
     "status": "completed"
    },
    "tags": []
   },
   "source": [
    "## Validation / calibration\n",
    "* confusion matrix \n",
    "* classification report"
   ]
  },
  {
   "cell_type": "code",
   "execution_count": 28,
   "id": "7da732fb",
   "metadata": {
    "papermill": {
     "duration": 0.257786,
     "end_time": "2023-05-01T17:49:14.888598",
     "exception": false,
     "start_time": "2023-05-01T17:49:14.630812",
     "status": "completed"
    },
    "tags": []
   },
   "outputs": [],
   "source": [
    "import matplotlib.pyplot as plt\n",
    "import seaborn as sns\n",
    "from sklearn.metrics import confusion_matrix,classification_report"
   ]
  },
  {
   "cell_type": "code",
   "execution_count": 29,
   "id": "f561e032",
   "metadata": {
    "papermill": {
     "duration": 0.129249,
     "end_time": "2023-05-01T17:49:15.036626",
     "exception": false,
     "start_time": "2023-05-01T17:49:14.907377",
     "status": "completed"
    },
    "tags": []
   },
   "outputs": [
    {
     "data": {
      "text/plain": [
       "array([[251,  85],\n",
       "       [ 87, 287]], dtype=int64)"
      ]
     },
     "execution_count": 29,
     "metadata": {},
     "output_type": "execute_result"
    }
   ],
   "source": [
    "y_pred = model_lr.predict(X_test1)\n",
    "cm = confusion_matrix(y_pred,y_test1)\n",
    "cm"
   ]
  },
  {
   "cell_type": "code",
   "execution_count": 30,
   "id": "db032c72",
   "metadata": {
    "papermill": {
     "duration": 0.341576,
     "end_time": "2023-05-01T17:49:15.424818",
     "exception": false,
     "start_time": "2023-05-01T17:49:15.083242",
     "status": "completed"
    },
    "tags": []
   },
   "outputs": [
    {
     "data": {
      "image/png": "[encoded data removed]",
      "text/plain": [
       "<Figure size 640x480 with 2 Axes>"
      ]
     },
     "metadata": {},
     "output_type": "display_data"
    }
   ],
   "source": [
    "sns.heatmap(cm,annot=True,fmt='')\n",
    "plt.xlabel(\"Predicted\")\n",
    "plt.ylabel(\"True\")\n",
    "plt.show()"
   ]
  },
  {
   "cell_type": "code",
   "execution_count": 31,
   "id": "3271de1d",
   "metadata": {
    "papermill": {
     "duration": 0.034672,
     "end_time": "2023-05-01T17:49:15.477990",
     "exception": false,
     "start_time": "2023-05-01T17:49:15.443318",
     "status": "completed"
    },
    "tags": []
   },
   "outputs": [
    {
     "name": "stdout",
     "output_type": "stream",
     "text": [
      "              precision    recall  f1-score   support\n",
      "\n",
      "           0       0.74      0.75      0.74       336\n",
      "           1       0.77      0.77      0.77       374\n",
      "\n",
      "    accuracy                           0.76       710\n",
      "   macro avg       0.76      0.76      0.76       710\n",
      "weighted avg       0.76      0.76      0.76       710\n",
      "\n"
     ]
    }
   ],
   "source": [
    "print(classification_report(y_pred,y_test1))"
   ]
  },
  {
   "cell_type": "markdown",
   "id": "7591ff6a",
   "metadata": {
    "papermill": {
     "duration": 0.017924,
     "end_time": "2023-05-01T17:49:15.514415",
     "exception": false,
     "start_time": "2023-05-01T17:49:15.496491",
     "status": "completed"
    },
    "tags": []
   },
   "source": [
    "## Generating predictions (Exciting part of notebook) 🤔"
   ]
  },
  {
   "cell_type": "code",
   "execution_count": 32,
   "id": "4254b185",
   "metadata": {
    "papermill": {
     "duration": 0.876393,
     "end_time": "2023-05-01T17:49:16.409582",
     "exception": false,
     "start_time": "2023-05-01T17:49:15.533189",
     "status": "completed"
    },
    "tags": []
   },
   "outputs": [
    {
     "name": "stdout",
     "output_type": "stream",
     "text": [
      "Model Accuracy: 90.03%\n"
     ]
    }
   ],
   "source": [
    "from sklearn.linear_model import LogisticRegression\n",
    "\n",
    "# Train the model\n",
    "lr = LogisticRegression()\n",
    "lr.fit(tf_df, df1['label'])\n",
    "\n",
    "# Check the model's accuracy on the training data\n",
    "accuracy = lr.score(tf_df, df1['label'])\n",
    "print(f\"Model Accuracy: {accuracy * 100:.2f}%\")\n"
   ]
  },
  {
   "cell_type": "code",
   "execution_count": 33,
   "id": "19343025",
   "metadata": {
    "papermill": {
     "duration": 0.061602,
     "end_time": "2023-05-01T17:49:16.522147",
     "exception": false,
     "start_time": "2023-05-01T17:49:16.460545",
     "status": "completed"
    },
    "tags": []
   },
   "outputs": [],
   "source": [
    "def predictor(text):\n",
    "    # Process the input text\n",
    "    processed_text = textPocess(text)  # Assume textPocess is your preprocessing function\n",
    "\n",
    "    # Transform the text into a vector\n",
    "    embedded_words = tf.transform([processed_text])\n",
    "\n",
    "    # Predict the label using the trained model\n",
    "    res = lr.predict(embedded_words)\n",
    "\n",
    "    # Interpret the prediction\n",
    "    if res[0] == 1:\n",
    "        return \"This person is in stress.\"\n",
    "    else:\n",
    "        return \"This person is not in stress.\"\n"
   ]
  },
  {
   "cell_type": "code",
   "execution_count": 34,
   "id": "7c2d7eaf",
   "metadata": {
    "papermill": {
     "duration": 0.032024,
     "end_time": "2023-05-01T17:49:16.572660",
     "exception": false,
     "start_time": "2023-05-01T17:49:16.540636",
     "status": "completed"
    },
    "tags": []
   },
   "outputs": [
    {
     "name": "stdout",
     "output_type": "stream",
     "text": [
      "This person is in stress.\n",
      "This person is not in stress.\n",
      "This person is in stress.\n",
      "This person is in stress.\n"
     ]
    }
   ],
   "source": [
    "# Example inputs\n",
    "text1 = \"I am sad.\"\n",
    "text2 = \"I am happy, I woke up early, played with friends, and enjoyed my day.\"\n",
    "text3 = \"I am calm.\"\n",
    "text4 = \"I am honest.\"\n",
    "\n",
    "# Predictions\n",
    "print(predictor(text1))  # Output: This person is in stress.\n",
    "print(predictor(text2))  # Output: This person is not in stress.\n",
    "print(predictor(text3))  # Output: This person is not in stress.\n",
    "print(predictor(text4))  # Output: Prediction based on model\n"
   ]
  },
  {
   "cell_type": "code",
   "execution_count": 35,
   "id": "c2597911-c0d9-44e1-92c7-eb325a91f9a8",
   "metadata": {},
   "outputs": [],
   "source": [
    "import pickle\n",
    "\n",
    "# Assuming 'lr' is your trained Logistic Regression model\n",
    "with open('model.pkl', 'wb') as file:\n",
    "    pickle.dump(lr, file)  # Saving the 'lr' model\n"
   ]
  },
  {
   "cell_type": "code",
   "execution_count": 36,
   "id": "c505d2bc-786c-46da-b509-05d3e6166115",
   "metadata": {},
   "outputs": [],
   "source": [
    "import pickle\n",
    "\n",
    "# Loading the model from the saved file\n",
    "with open('model.pkl', 'rb') as file:\n",
    "    loaded_model = pickle.load(file)  # Loaded model\n",
    "\n",
    "# Now, you can use 'loaded_model' to make predictions\n",
    "# Example: loaded_model.predict(some_input_data)\n"
   ]
  },
  {
   "cell_type": "code",
   "execution_count": null,
   "id": "32979e55-04b9-4b6c-8d39-5b1ceb855472",
   "metadata": {},
   "outputs": [],
   "source": []
  }
 ],
 "metadata": {
  "kernelspec": {
   "display_name": "Python 3 (ipykernel)",
   "language": "python",
   "name": "python3"
  },
  "language_info": {
   "codemirror_mode": {
    "name": "ipython",
    "version": 3
   },
   "file_extension": ".py",
   "mimetype": "text/x-python",
   "name": "python",
   "nbconvert_exporter": "python",
   "pygments_lexer": "ipython3",
   "version": "3.12.2"
  },
  "papermill": {
   "default_parameters": {},
   "duration": 79.873422,
   "end_time": "2023-05-01T17:49:19.593434",
   "environment_variables": {},
   "exception": null,
   "input_path": "__notebook__.ipynb",
   "output_path": "__notebook__.ipynb",
   "parameters": {},
   "start_time": "2023-05-01T17:47:59.720012",
   "version": "2.4.0"
  }
 },
 "nbformat": 4,
 "nbformat_minor": 5
}
